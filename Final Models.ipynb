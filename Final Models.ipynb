{
 "cells": [
  {
   "cell_type": "code",
   "execution_count": 1,
   "metadata": {},
   "outputs": [],
   "source": [
    "import pandas as pd\n",
    "import numpy as np\n",
    "from fastai.tabular import *"
   ]
  },
  {
   "cell_type": "code",
   "execution_count": 2,
   "metadata": {},
   "outputs": [],
   "source": [
    "import warnings\n",
    "# Filter out warnings \n",
    "from sklearn.exceptions import ConvergenceWarning\n",
    "warnings.filterwarnings('ignore', category = ConvergenceWarning)\n",
    "warnings.filterwarnings(\"ignore\")\n",
    "\n",
    "#data manipulation\n",
    "import pandas as pd\n",
    "import numpy as np\n",
    "import scipy as sc\n",
    "\n",
    "#utilities\n",
    "import gc \n",
    "import itertools\n",
    "import csv\n",
    "from timeit import default_timer as timer\n",
    "import ast\n",
    "\n",
    "#plotting\n",
    "import matplotlib.pyplot as plt\n",
    "import seaborn as sns\n",
    "\n",
    "#Encoding\n",
    "import category_encoders as ce\n",
    "\n",
    "# Modeling\n",
    "import lightgbm as lgb\n",
    "\n",
    "#hyperparam search\n",
    "from hyperopt import hp,tpe,Trials,fmin,STATUS_OK\n",
    "from hyperopt.pyll.stochastic import sample\n",
    "\n",
    "# Evaluation of the model\n",
    "from sklearn.model_selection import KFold\n",
    "from sklearn import preprocessing, metrics\n",
    "from sklearn.model_selection import StratifiedKFold\n",
    "\n",
    "#Correlation Denogram\n",
    "from scipy.cluster import hierarchy as hc\n",
    "#Shapely Values\n",
    "import shap\n",
    "#Partial Dependence\n",
    "from pdpbox import pdp\n",
    "# Feature selection\n",
    "from sklearn.feature_selection import SelectKBest, f_classif,SelectFromModel\n",
    "\n",
    "# Model imports\n",
    "from sklearn.svm import LinearSVC\n",
    "from sklearn.naive_bayes import GaussianNB\n",
    "from sklearn.neural_network import MLPClassifier\n",
    "from sklearn.linear_model import LogisticRegressionCV, RidgeClassifier\n",
    "from sklearn.discriminant_analysis import LinearDiscriminantAnalysis\n",
    "from sklearn.neighbors import KNeighborsClassifier\n",
    "from sklearn.ensemble import ExtraTreesClassifier,RandomForestClassifier\n",
    "from sklearn.linear_model import LogisticRegression\n",
    "\n",
    "\n",
    "import gc"
   ]
  },
  {
   "cell_type": "markdown",
   "metadata": {},
   "source": [
    "### Engineered Features"
   ]
  },
  {
   "cell_type": "code",
   "execution_count": 3,
   "metadata": {},
   "outputs": [],
   "source": [
    "X_train = pd.read_csv('DS Test/Training/X_train.csv',index_col='Unique_ID')\n",
    "y_train = pd.read_csv('DS Test/Training/y_train.csv',index_col='Unique_ID')\n",
    "train= pd.merge(X_train,y_train,on='Unique_ID')\n",
    "test = pd.read_csv('DS Test/Test/X_test.csv',index_col='Unique_ID')\n",
    "\n",
    "cat_features = ['C1', 'C2', 'C3', 'C4', 'C5', 'C6', 'C7', 'C8']"
   ]
  },
  {
   "cell_type": "code",
   "execution_count": 4,
   "metadata": {},
   "outputs": [],
   "source": [
    "#categorical interaction\n",
    "for df in [test,train]:\n",
    "    interactions = pd.DataFrame(df,index=df.index)\n",
    "    for col1, col2 in itertools.combinations(cat_features, 2):\n",
    "        col = '_'.join([col1, col2])\n",
    "        values = df[col1].map(str) + \"_\" + df[col2].map(str)\n",
    "        encoder = preprocessing.LabelEncoder()\n",
    "        interactions[col] = encoder.fit_transform(values)\n",
    "    df = df.merge(interactions)"
   ]
  },
  {
   "cell_type": "code",
   "execution_count": 5,
   "metadata": {},
   "outputs": [],
   "source": [
    "#catboost encoding\n",
    "cb_enc = ce.CatBoostEncoder(cols=cat_features, random_state=7)\n",
    "cb_enc.fit(train[cat_features], train['Dependent_Variable'])\n",
    "\n",
    "train = train.join(cb_enc.transform(train[cat_features]).add_suffix('_cb'))\n",
    "test = test.join(cb_enc.transform(test[cat_features]).add_suffix('_cb'))"
   ]
  },
  {
   "cell_type": "code",
   "execution_count": 6,
   "metadata": {},
   "outputs": [],
   "source": [
    "# encoding nan values in train set\n",
    "for n,c in train.items():\n",
    "    if pd.isnull(c).sum():\n",
    "        train[n+'_na'] = pd.isnull(c)\n",
    "for n,c in test.items():\n",
    "    if pd.isnull(c).sum():\n",
    "        test[n+'_na'] = pd.isnull(c)        "
   ]
  },
  {
   "cell_type": "code",
   "execution_count": 7,
   "metadata": {},
   "outputs": [],
   "source": [
    "idx = train.select_dtypes('float').columns\n",
    "for df in [test, train]:\n",
    "    df['mean'] = df[idx].mean(axis=1)\n",
    "    df['kurt'] = df[idx].kurtosis(axis=1)\n",
    "    df['med'] = df[idx].median(axis=1)"
   ]
  },
  {
   "cell_type": "markdown",
   "metadata": {},
   "source": [
    "### NN model"
   ]
  },
  {
   "cell_type": "code",
   "execution_count": 8,
   "metadata": {},
   "outputs": [],
   "source": [
    "dep_var = 'Dependent_Variable'\n",
    "cat_names = cat_features\n",
    "cont_names = train.select_dtypes('float').columns\n",
    "\n",
    "# Transformations\n",
    "procs = [FillMissing, Categorify, Normalize]\n",
    "\n",
    "# Test Tabular List\n",
    "test_df = TabularList.from_df(test, cat_names=cat_names, cont_names=cont_names, procs=procs)\n",
    "\n",
    "# Train Data Bunch\n",
    "data = (TabularList.from_df(train, cat_names=cat_names, cont_names=cont_names, procs=procs)\n",
    "                        .split_by_rand_pct(0.2, seed=42)\n",
    "                        .label_from_df(cols = dep_var)\n",
    "                        .add_test(test_df, label=0)\n",
    "                        .databunch())\n",
    "\n"
   ]
  },
  {
   "cell_type": "code",
   "execution_count": 9,
   "metadata": {},
   "outputs": [
    {
     "data": {
      "text/html": [],
      "text/plain": [
       "<IPython.core.display.HTML object>"
      ]
     },
     "metadata": {},
     "output_type": "display_data"
    },
    {
     "name": "stdout",
     "output_type": "stream",
     "text": [
      "LR Finder is complete, type {learner_name}.recorder.plot() to see the graph.\n"
     ]
    },
    {
     "data": {
      "text/html": [
       "Total time: 00:47 <p><table border=\"1\" class=\"dataframe\">\n",
       "  <thead>\n",
       "    <tr style=\"text-align: left;\">\n",
       "      <th>epoch</th>\n",
       "      <th>train_loss</th>\n",
       "      <th>valid_loss</th>\n",
       "      <th>auroc</th>\n",
       "      <th>time</th>\n",
       "    </tr>\n",
       "  </thead>\n",
       "  <tbody>\n",
       "    <tr>\n",
       "      <td>0</td>\n",
       "      <td>0.560232</td>\n",
       "      <td>0.544767</td>\n",
       "      <td>0.748363</td>\n",
       "      <td>00:09</td>\n",
       "    </tr>\n",
       "    <tr>\n",
       "      <td>1</td>\n",
       "      <td>0.523372</td>\n",
       "      <td>0.516701</td>\n",
       "      <td>0.762013</td>\n",
       "      <td>00:09</td>\n",
       "    </tr>\n",
       "    <tr>\n",
       "      <td>2</td>\n",
       "      <td>0.507996</td>\n",
       "      <td>0.514064</td>\n",
       "      <td>0.765519</td>\n",
       "      <td>00:09</td>\n",
       "    </tr>\n",
       "    <tr>\n",
       "      <td>3</td>\n",
       "      <td>0.497069</td>\n",
       "      <td>0.512799</td>\n",
       "      <td>0.765970</td>\n",
       "      <td>00:09</td>\n",
       "    </tr>\n",
       "    <tr>\n",
       "      <td>4</td>\n",
       "      <td>0.487882</td>\n",
       "      <td>0.512336</td>\n",
       "      <td>0.766682</td>\n",
       "      <td>00:09</td>\n",
       "    </tr>\n",
       "  </tbody>\n",
       "</table>"
      ],
      "text/plain": [
       "<IPython.core.display.HTML object>"
      ]
     },
     "metadata": {},
     "output_type": "display_data"
    },
    {
     "data": {
      "image/png": "[encoded data removed]",
      "text/plain": [
       "<Figure size 432x288 with 1 Axes>"
      ]
     },
     "metadata": {},
     "output_type": "display_data"
    },
    {
     "data": {
      "image/png": "[encoded data removed]",
      "text/plain": [
       "<Figure size 432x288 with 1 Axes>"
      ]
     },
     "metadata": {
      "needs_background": "light"
     },
     "output_type": "display_data"
    },
    {
     "data": {
      "image/png": "[encoded data removed]",
      "text/plain": [
       "<Figure size 432x288 with 1 Axes>"
      ]
     },
     "metadata": {
      "needs_background": "light"
     },
     "output_type": "display_data"
    }
   ],
   "source": [
    "learn = tabular_learner(data, layers=[100, 50, 25], metrics=AUROC(),emb_drop=0.2 ,callback_fns=ShowGraph)\n",
    "\n",
    "learn.lr_find()\n",
    "learn.recorder.plot()\n",
    "learn.fit_one_cycle(5, max_lr=slice(1e-003))\n",
    "\n",
    "learn.model\n",
    "learn.recorder.plot_losses()"
   ]
  },
  {
   "cell_type": "code",
   "execution_count": 10,
   "metadata": {},
   "outputs": [],
   "source": [
    "test_predicts, _ = learn.get_preds(ds_type=DatasetType.Test)\n",
    "test_probs = to_np(test_predicts[:, 1])"
   ]
  },
  {
   "cell_type": "code",
   "execution_count": 11,
   "metadata": {},
   "outputs": [],
   "source": [
    "df=pd.DataFrame({'Unique_ID':test.index,'Class_1_Probability':test_probs})\n",
    "df.to_csv('NN_submission.csv', index=False)"
   ]
  },
  {
   "cell_type": "markdown",
   "metadata": {},
   "source": [
    "### LightGBM Model"
   ]
  },
  {
   "cell_type": "code",
   "execution_count": 12,
   "metadata": {},
   "outputs": [],
   "source": [
    "valid, train = np.split(train.sample(frac=1,random_state=23), [int(0.1*len(train))])"
   ]
  },
  {
   "cell_type": "code",
   "execution_count": 13,
   "metadata": {},
   "outputs": [],
   "source": [
    "def train_model(train, valid):\n",
    "    folds = StratifiedKFold(n_splits=10 , shuffle=False, random_state=4400)\n",
    "    oof = np.zeros(len(train))\n",
    "    predictions = np.zeros(len(test))\n",
    "    feature_importance = pd.DataFrame()\n",
    "    cat_feat = train.columns[train.columns.isin(cat_features)].tolist()\n",
    "    \n",
    "\n",
    "    params = {\n",
    "    'metric':'auc',\n",
    "    'subsample': 0.737117735535475, \n",
    "    'num_leaves': 89,\n",
    "    'subsample_for_bin':200000,\n",
    "    'min_child_samples':50,\n",
    "    'reg_alpha': 0.5056296785665977,\n",
    "    'reg_lambda': 0.6100402017348536,\n",
    "    'colsample_bytree': 0.6003926309600927,\n",
    "    'min_child_weight':0.001,   \n",
    "    'subsample_freq':0,\n",
    "    'boosting_type': 'gbdt',\n",
    "    'learning_rate': 0.013658563750726419,\n",
    "    'max_depth': -1,\n",
    "    'metric':'auc',\n",
    "    'device': 'gpu',\n",
    "    'gpu_platform_id':0,\n",
    "    'gpu_device_id':0,   \n",
    "    'random_state':50,\n",
    "    'class_weight':'balanced',\n",
    "    'n_estimators':540,\n",
    "    'objective':'binary'   \n",
    "    }\n",
    "\n",
    "    print(\"Training model!\")\n",
    "    feature_cols = train.columns.drop('Dependent_Variable')\n",
    "    \n",
    "    for fold_, (trn_idx, val_idx) in enumerate(folds.split(train[feature_cols].values, train['Dependent_Variable'].values)):\n",
    "        print(\"Fold {}\".format(fold_))\n",
    "        trn_data = lgb.Dataset(train.iloc[trn_idx][feature_cols], label=train['Dependent_Variable'].iloc[trn_idx],categorical_feature=cat_feat)\n",
    "        val_data = lgb.Dataset(train.iloc[val_idx][feature_cols], label=train['Dependent_Variable'].iloc[val_idx],categorical_feature=cat_feat)\n",
    "        clf=lgb.train(params,trn_data, 1000000, valid_sets = [trn_data, val_data], verbose_eval=1000, early_stopping_rounds = 3000)        \n",
    "        oof[val_idx] = clf.predict(train.iloc[val_idx][feature_cols], num_iteration=clf.best_iteration)\n",
    "        hld = clf.predict(valid[feature_cols])\n",
    "        predictions += clf.predict(test[feature_cols], num_iteration=clf.best_iteration) / folds.n_splits\n",
    "        print(f\"CV score: {metrics.roc_auc_score(train['Dependent_Variable'], oof)} ,holdout_score: {metrics.roc_auc_score(valid['Dependent_Variable'], hld)}\")\n",
    "    return clf,predictions"
   ]
  },
  {
   "cell_type": "code",
   "execution_count": 14,
   "metadata": {},
   "outputs": [
    {
     "name": "stdout",
     "output_type": "stream",
     "text": [
      "Training model!\n",
      "Fold 0\n",
      "Training until validation scores don't improve for 3000 rounds\n",
      "Did not meet early stopping. Best iteration is:\n",
      "[540]\ttraining's auc: 0.942831\tvalid_1's auc: 0.783682\n",
      "CV score: 0.5028575822879844 ,holdout_score: 0.7784046527424011\n",
      "Fold 1\n",
      "Training until validation scores don't improve for 3000 rounds\n",
      "Did not meet early stopping. Best iteration is:\n",
      "[540]\ttraining's auc: 0.942706\tvalid_1's auc: 0.763926\n",
      "CV score: 0.5109963247383407 ,holdout_score: 0.7781049414161997\n",
      "Fold 2\n",
      "Training until validation scores don't improve for 3000 rounds\n",
      "Did not meet early stopping. Best iteration is:\n",
      "[540]\ttraining's auc: 0.941795\tvalid_1's auc: 0.788295\n",
      "CV score: 0.5251527068372577 ,holdout_score: 0.7772435897435898\n",
      "Fold 3\n",
      "Training until validation scores don't improve for 3000 rounds\n",
      "Did not meet early stopping. Best iteration is:\n",
      "[540]\ttraining's auc: 0.942777\tvalid_1's auc: 0.766059\n",
      "CV score: 0.544188610127386 ,holdout_score: 0.7795253863134657\n",
      "Fold 4\n",
      "Training until validation scores don't improve for 3000 rounds\n",
      "Did not meet early stopping. Best iteration is:\n",
      "[540]\ttraining's auc: 0.942682\tvalid_1's auc: 0.780263\n",
      "CV score: 0.5692536413402369 ,holdout_score: 0.7757148921718459\n",
      "Fold 5\n",
      "Training until validation scores don't improve for 3000 rounds\n",
      "Did not meet early stopping. Best iteration is:\n",
      "[540]\ttraining's auc: 0.94218\tvalid_1's auc: 0.791905\n",
      "CV score: 0.6006290378805245 ,holdout_score: 0.776772372219392\n",
      "Fold 6\n",
      "Training until validation scores don't improve for 3000 rounds\n",
      "Did not meet early stopping. Best iteration is:\n",
      "[540]\ttraining's auc: 0.942399\tvalid_1's auc: 0.785225\n",
      "CV score: 0.637279755019737 ,holdout_score: 0.7771484971981661\n",
      "Fold 7\n",
      "Training until validation scores don't improve for 3000 rounds\n",
      "Did not meet early stopping. Best iteration is:\n",
      "[540]\ttraining's auc: 0.941699\tvalid_1's auc: 0.787054\n",
      "CV score: 0.6797995117499386 ,holdout_score: 0.7773870776023094\n",
      "Fold 8\n",
      "Training until validation scores don't improve for 3000 rounds\n",
      "Did not meet early stopping. Best iteration is:\n",
      "[540]\ttraining's auc: 0.942691\tvalid_1's auc: 0.782876\n",
      "CV score: 0.7276394527247021 ,holdout_score: 0.7766789777551367\n",
      "Fold 9\n",
      "Training until validation scores don't improve for 3000 rounds\n",
      "Did not meet early stopping. Best iteration is:\n",
      "[540]\ttraining's auc: 0.942882\tvalid_1's auc: 0.783459\n",
      "CV score: 0.7812338686367221 ,holdout_score: 0.7767974189166241\n"
     ]
    }
   ],
   "source": [
    "_ = train_model(train, valid)"
   ]
  },
  {
   "cell_type": "code",
   "execution_count": 15,
   "metadata": {},
   "outputs": [],
   "source": [
    "d=train.copy()\n",
    "d.fillna(value=train.mean(),inplace=True)"
   ]
  },
  {
   "cell_type": "code",
   "execution_count": 16,
   "metadata": {},
   "outputs": [
    {
     "data": {
      "text/plain": [
       "112"
      ]
     },
     "execution_count": 17,
     "metadata": {},
     "output_type": "execute_result"
    }
   ],
   "source": [
    "len(d.columns)"
   ]
  },
  {
   "cell_type": "code",
   "execution_count": 18,
   "metadata": {},
   "outputs": [],
   "source": [
    "feature_cols = train.columns.drop('Dependent_Variable')\n",
    "\n",
    "selector = SelectKBest(f_classif, k=70)\n",
    "X = selector.fit_transform(d[feature_cols], d['Dependent_Variable'])\n",
    "selected_features = pd.DataFrame(selector.inverse_transform(X), \n",
    "                                    index=d.index, \n",
    "                                    columns=feature_cols)"
   ]
  },
  {
   "cell_type": "code",
   "execution_count": 19,
   "metadata": {},
   "outputs": [
    {
     "name": "stdout",
     "output_type": "stream",
     "text": [
      "Training model!\n",
      "Fold 0\n",
      "Training until validation scores don't improve for 3000 rounds\n",
      "Did not meet early stopping. Best iteration is:\n",
      "[540]\ttraining's auc: 0.923269\tvalid_1's auc: 0.78322\n",
      "CV score: 0.5028529594107028 ,holdout_score: 0.7711750721684496\n",
      "Fold 1\n",
      "Training until validation scores don't improve for 3000 rounds\n",
      "Did not meet early stopping. Best iteration is:\n",
      "[540]\ttraining's auc: 0.92344\tvalid_1's auc: 0.764732\n",
      "CV score: 0.5110094988783002 ,holdout_score: 0.7728239089828494\n",
      "Fold 2\n",
      "Training until validation scores don't improve for 3000 rounds\n",
      "Did not meet early stopping. Best iteration is:\n",
      "[540]\ttraining's auc: 0.922247\tvalid_1's auc: 0.785231\n",
      "CV score: 0.525078565852415 ,holdout_score: 0.7726914586517235\n",
      "Fold 3\n",
      "Training until validation scores don't improve for 3000 rounds\n",
      "Did not meet early stopping. Best iteration is:\n",
      "[540]\ttraining's auc: 0.923723\tvalid_1's auc: 0.761891\n",
      "CV score: 0.5439122712761219 ,holdout_score: 0.7701366955340466\n",
      "Fold 4\n",
      "Training until validation scores don't improve for 3000 rounds\n",
      "Did not meet early stopping. Best iteration is:\n",
      "[540]\ttraining's auc: 0.922567\tvalid_1's auc: 0.776179\n",
      "CV score: 0.568703036510435 ,holdout_score: 0.7709615384615385\n",
      "Fold 5\n",
      "Training until validation scores don't improve for 3000 rounds\n",
      "Did not meet early stopping. Best iteration is:\n",
      "[540]\ttraining's auc: 0.922465\tvalid_1's auc: 0.786882\n",
      "CV score: 0.5996663448924952 ,holdout_score: 0.7718521820343013\n",
      "Fold 6\n",
      "Training until validation scores don't improve for 3000 rounds\n",
      "Did not meet early stopping. Best iteration is:\n",
      "[540]\ttraining's auc: 0.922781\tvalid_1's auc: 0.782084\n",
      "CV score: 0.6359373340144514 ,holdout_score: 0.7714692647308543\n",
      "Fold 7\n",
      "Training until validation scores don't improve for 3000 rounds\n",
      "Did not meet early stopping. Best iteration is:\n",
      "[540]\ttraining's auc: 0.922345\tvalid_1's auc: 0.785656\n",
      "CV score: 0.6781407682460752 ,holdout_score: 0.7713554932925794\n",
      "Fold 8\n",
      "Training until validation scores don't improve for 3000 rounds\n",
      "Did not meet early stopping. Best iteration is:\n",
      "[540]\ttraining's auc: 0.923036\tvalid_1's auc: 0.779365\n",
      "CV score: 0.7254398749906125 ,holdout_score: 0.7703290032263543\n",
      "Fold 9\n",
      "Training until validation scores don't improve for 3000 rounds\n",
      "Did not meet early stopping. Best iteration is:\n",
      "[540]\ttraining's auc: 0.922566\tvalid_1's auc: 0.778056\n",
      "CV score: 0.7782429995721611 ,holdout_score: 0.771153421633554\n"
     ]
    }
   ],
   "source": [
    "to_drop = selected_features.columns[selected_features.var() == 0]\n",
    "_ = train_model(train.drop(to_drop, axis=1), \n",
    "                valid.drop(to_drop, axis=1))"
   ]
  },
  {
   "cell_type": "code",
   "execution_count": 20,
   "metadata": {},
   "outputs": [],
   "source": [
    "m= SelectFromModel(LogisticRegression(C=0.1, penalty=\"l1\", random_state=23).fit(d[feature_cols], d['Dependent_Variable']), prefit=True)\n",
    "X = m.transform(d[feature_cols])\n",
    "selected_features = pd.DataFrame(m.inverse_transform(X), \n",
    "                                        index=d.index,\n",
    "                                        columns=feature_cols)"
   ]
  },
  {
   "cell_type": "code",
   "execution_count": 21,
   "metadata": {},
   "outputs": [
    {
     "name": "stdout",
     "output_type": "stream",
     "text": [
      "Training model!\n",
      "Fold 0\n",
      "Training until validation scores don't improve for 3000 rounds\n",
      "Did not meet early stopping. Best iteration is:\n",
      "[540]\ttraining's auc: 0.94165\tvalid_1's auc: 0.781983\n",
      "CV score: 0.5028405857919239 ,holdout_score: 0.7771162336559687\n",
      "Fold 1\n",
      "Training until validation scores don't improve for 3000 rounds\n",
      "Did not meet early stopping. Best iteration is:\n",
      "[540]\ttraining's auc: 0.941495\tvalid_1's auc: 0.765066\n",
      "CV score: 0.5109856369853593 ,holdout_score: 0.7788516726099507\n",
      "Fold 2\n",
      "Training until validation scores don't improve for 3000 rounds\n",
      "Did not meet early stopping. Best iteration is:\n",
      "[540]\ttraining's auc: 0.940258\tvalid_1's auc: 0.78903\n",
      "CV score: 0.5251612899087245 ,holdout_score: 0.778295126507047\n",
      "Fold 3\n",
      "Training until validation scores don't improve for 3000 rounds\n",
      "Did not meet early stopping. Best iteration is:\n",
      "[540]\ttraining's auc: 0.941783\tvalid_1's auc: 0.762902\n",
      "CV score: 0.5440772316539816 ,holdout_score: 0.7784097469859059\n",
      "Fold 4\n",
      "Training until validation scores don't improve for 3000 rounds\n",
      "Did not meet early stopping. Best iteration is:\n",
      "[540]\ttraining's auc: 0.940525\tvalid_1's auc: 0.779438\n",
      "CV score: 0.5690641086731572 ,holdout_score: 0.7760005943284088\n",
      "Fold 5\n",
      "Training until validation scores don't improve for 3000 rounds\n",
      "Did not meet early stopping. Best iteration is:\n",
      "[540]\ttraining's auc: 0.941192\tvalid_1's auc: 0.789609\n",
      "CV score: 0.6002570659062303 ,holdout_score: 0.7776553744268977\n",
      "Fold 6\n",
      "Training until validation scores don't improve for 3000 rounds\n",
      "Did not meet early stopping. Best iteration is:\n",
      "[540]\ttraining's auc: 0.941008\tvalid_1's auc: 0.783729\n",
      "CV score: 0.6367566806964984 ,holdout_score: 0.7748637289862454\n",
      "Fold 7\n",
      "Training until validation scores don't improve for 3000 rounds\n",
      "Did not meet early stopping. Best iteration is:\n",
      "[540]\ttraining's auc: 0.940311\tvalid_1's auc: 0.785651\n",
      "CV score: 0.6790835966456022 ,holdout_score: 0.7757195618950586\n",
      "Fold 8\n",
      "Training until validation scores don't improve for 3000 rounds\n",
      "Did not meet early stopping. Best iteration is:\n",
      "[540]\ttraining's auc: 0.940669\tvalid_1's auc: 0.782133\n",
      "CV score: 0.7267527721385802 ,holdout_score: 0.7753888605875362\n",
      "Fold 9\n",
      "Training until validation scores don't improve for 3000 rounds\n",
      "Did not meet early stopping. Best iteration is:\n",
      "[540]\ttraining's auc: 0.941331\tvalid_1's auc: 0.783316\n",
      "CV score: 0.7802494661504495 ,holdout_score: 0.7758910680930549\n"
     ]
    }
   ],
   "source": [
    "to_drop = selected_features.columns[selected_features.var() == 0]\n",
    "t = train_model(train.drop(to_drop, axis=1), \n",
    "                valid.drop(to_drop, axis=1))"
   ]
  },
  {
   "cell_type": "code",
   "execution_count": 22,
   "metadata": {},
   "outputs": [],
   "source": [
    "sub_df = pd.DataFrame({'Unique_ID':test.index,'Class_1_Probability':t[1]})\n",
    "sub_df.to_csv(\"LGBM_submission.csv\", index=False)"
   ]
  },
  {
   "cell_type": "markdown",
   "metadata": {},
   "source": [
    "as determined by chi-squared test only C3,C4,N9,N12,N17,N19,N23,N24,N31 are dependent on target ,therefore work with conditonal/marginal naive bayes model with lightgbm etc to ensemble and improve the model but will not do so here "
   ]
  }
 ],
 "metadata": {
  "kernelspec": {
   "display_name": "Python 3",
   "language": "python",
   "name": "python3"
  },
  "language_info": {
   "codemirror_mode": {
    "name": "ipython",
    "version": 3
   },
   "file_extension": ".py",
   "mimetype": "text/x-python",
   "name": "python",
   "nbconvert_exporter": "python",
   "pygments_lexer": "ipython3",
   "version": "3.7.3"
  }
 },
 "nbformat": 4,
 "nbformat_minor": 2
}
